version https://git-lfs.github.com/spec/v1
oid sha256:e397f443c4a8ba418598b2380656569ee61e89610b7d70b45ee244d65a0e8f22
size 27193040
